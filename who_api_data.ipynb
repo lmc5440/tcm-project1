{
 "cells": [
  {
   "cell_type": "code",
   "execution_count": 1,
   "metadata": {},
   "outputs": [],
   "source": [
    "import pandas as pd\n",
    "import requests"
   ]
  },
  {
   "cell_type": "code",
   "execution_count": 2,
   "metadata": {},
   "outputs": [],
   "source": [
    "base_url = 'https://ghoapi.azureedge.net/api/'"
   ]
  },
  {
   "cell_type": "code",
   "execution_count": 3,
   "metadata": {},
   "outputs": [],
   "source": [
    "# Malaria\n",
    "malaria_death = 'MALARIA_EST_DEATHS'\n",
    "malaria_cases = 'MALARIA_EST_CASES'\n",
    "\n",
    "# Hepatitis\n",
    "hepatitis_prevalence_b = 'HEPATITIS_HBV_PREVALENCE_PER100'\n",
    "hepatitis_prevalence_c = 'HEPATITIS_HCV_PREVALENCE_PER100'\n",
    "hepatitis_death_b = 'HEPATITIS_HBV_DEATHS_NUM'\n",
    "hepatitis_death_c = 'HEPATITIS_HCV_DEATHS_NUM'\n",
    "\n",
    "# Tuberculosis\n",
    "tuberculosis_incidence = 'MDG_0000000020'"
   ]
  },
  {
   "cell_type": "code",
   "execution_count": 4,
   "metadata": {},
   "outputs": [
    {
     "data": {
      "text/html": [
       "<div>\n",
       "<style scoped>\n",
       "    .dataframe tbody tr th:only-of-type {\n",
       "        vertical-align: middle;\n",
       "    }\n",
       "\n",
       "    .dataframe tbody tr th {\n",
       "        vertical-align: top;\n",
       "    }\n",
       "\n",
       "    .dataframe thead th {\n",
       "        text-align: right;\n",
       "    }\n",
       "</style>\n",
       "<table border=\"1\" class=\"dataframe\">\n",
       "  <thead>\n",
       "    <tr style=\"text-align: right;\">\n",
       "      <th></th>\n",
       "      <th>Country</th>\n",
       "      <th>NumericValue</th>\n",
       "      <th>Low</th>\n",
       "      <th>High</th>\n",
       "      <th>Year</th>\n",
       "    </tr>\n",
       "  </thead>\n",
       "  <tbody>\n",
       "    <tr>\n",
       "      <th>0</th>\n",
       "      <td>AFG</td>\n",
       "      <td>378.0</td>\n",
       "      <td>160.0</td>\n",
       "      <td>640.0</td>\n",
       "      <td>2017</td>\n",
       "    </tr>\n",
       "    <tr>\n",
       "      <th>1</th>\n",
       "      <td>AFR</td>\n",
       "      <td>555248.0</td>\n",
       "      <td>522000.0</td>\n",
       "      <td>619000.0</td>\n",
       "      <td>2017</td>\n",
       "    </tr>\n",
       "    <tr>\n",
       "      <th>2</th>\n",
       "      <td>AGO</td>\n",
       "      <td>14080.0</td>\n",
       "      <td>9740.0</td>\n",
       "      <td>21000.0</td>\n",
       "      <td>2017</td>\n",
       "    </tr>\n",
       "    <tr>\n",
       "      <th>3</th>\n",
       "      <td>AMR</td>\n",
       "      <td>665.0</td>\n",
       "      <td>452.0</td>\n",
       "      <td>902.0</td>\n",
       "      <td>2017</td>\n",
       "    </tr>\n",
       "    <tr>\n",
       "      <th>4</th>\n",
       "      <td>ARE</td>\n",
       "      <td>0.0</td>\n",
       "      <td>NaN</td>\n",
       "      <td>NaN</td>\n",
       "      <td>2017</td>\n",
       "    </tr>\n",
       "  </tbody>\n",
       "</table>\n",
       "</div>"
      ],
      "text/plain": [
       "  Country  NumericValue       Low      High  Year\n",
       "0     AFG         378.0     160.0     640.0  2017\n",
       "1     AFR      555248.0  522000.0  619000.0  2017\n",
       "2     AGO       14080.0    9740.0   21000.0  2017\n",
       "3     AMR         665.0     452.0     902.0  2017\n",
       "4     ARE           0.0       NaN       NaN  2017"
      ]
     },
     "execution_count": 4,
     "metadata": {},
     "output_type": "execute_result"
    }
   ],
   "source": [
    "malaria_death_req = requests.get(base_url + malaria_death).json()\n",
    "malaria_death_data = malaria_death_req['value']\n",
    "malaria_death_df = pd.json_normalize(malaria_death_data)\n",
    "malaria_death_df = malaria_death_df[malaria_death_df['TimeDim'] > 2016][['SpatialDim','NumericValue','Low','High','TimeDim']].sort_values(by=['TimeDim','SpatialDim'])\n",
    "malaria_death_df = malaria_death_df.rename(columns={\n",
    "    'SpatialDim': 'Country',\n",
    "    'TimeDim': 'Year'\n",
    "}).reset_index(drop=True)\n",
    "malaria_death_df.head()"
   ]
  },
  {
   "cell_type": "code",
   "execution_count": 5,
   "metadata": {},
   "outputs": [
    {
     "data": {
      "text/html": [
       "<div>\n",
       "<style scoped>\n",
       "    .dataframe tbody tr th:only-of-type {\n",
       "        vertical-align: middle;\n",
       "    }\n",
       "\n",
       "    .dataframe tbody tr th {\n",
       "        vertical-align: top;\n",
       "    }\n",
       "\n",
       "    .dataframe thead th {\n",
       "        text-align: right;\n",
       "    }\n",
       "</style>\n",
       "<table border=\"1\" class=\"dataframe\">\n",
       "  <thead>\n",
       "    <tr style=\"text-align: right;\">\n",
       "      <th></th>\n",
       "      <th>Country</th>\n",
       "      <th>NumericValue</th>\n",
       "      <th>Low</th>\n",
       "      <th>High</th>\n",
       "      <th>Year</th>\n",
       "    </tr>\n",
       "  </thead>\n",
       "  <tbody>\n",
       "    <tr>\n",
       "      <th>0</th>\n",
       "      <td>AFG</td>\n",
       "      <td>798871.0</td>\n",
       "      <td>608000.0</td>\n",
       "      <td>1022000.0</td>\n",
       "      <td>2017</td>\n",
       "    </tr>\n",
       "    <tr>\n",
       "      <th>1</th>\n",
       "      <td>AFR</td>\n",
       "      <td>218442674.0</td>\n",
       "      <td>201000000.0</td>\n",
       "      <td>238000000.0</td>\n",
       "      <td>2017</td>\n",
       "    </tr>\n",
       "    <tr>\n",
       "      <th>2</th>\n",
       "      <td>AGO</td>\n",
       "      <td>6312055.0</td>\n",
       "      <td>4902000.0</td>\n",
       "      <td>8010000.0</td>\n",
       "      <td>2017</td>\n",
       "    </tr>\n",
       "    <tr>\n",
       "      <th>3</th>\n",
       "      <td>AMR</td>\n",
       "      <td>946216.0</td>\n",
       "      <td>878000.0</td>\n",
       "      <td>1032000.0</td>\n",
       "      <td>2017</td>\n",
       "    </tr>\n",
       "    <tr>\n",
       "      <th>4</th>\n",
       "      <td>ARE</td>\n",
       "      <td>0.0</td>\n",
       "      <td>NaN</td>\n",
       "      <td>NaN</td>\n",
       "      <td>2017</td>\n",
       "    </tr>\n",
       "  </tbody>\n",
       "</table>\n",
       "</div>"
      ],
      "text/plain": [
       "  Country  NumericValue          Low         High  Year\n",
       "0     AFG      798871.0     608000.0    1022000.0  2017\n",
       "1     AFR   218442674.0  201000000.0  238000000.0  2017\n",
       "2     AGO     6312055.0    4902000.0    8010000.0  2017\n",
       "3     AMR      946216.0     878000.0    1032000.0  2017\n",
       "4     ARE           0.0          NaN          NaN  2017"
      ]
     },
     "execution_count": 5,
     "metadata": {},
     "output_type": "execute_result"
    }
   ],
   "source": [
    "malaria_cases_req = requests.get(base_url + malaria_cases).json()\n",
    "malaria_cases_data = malaria_cases_req['value']\n",
    "malaria_cases_df = pd.json_normalize(malaria_cases_data)\n",
    "malaria_cases_df = malaria_cases_df[malaria_cases_df['TimeDim'] > 2016][['SpatialDim','NumericValue','Low','High','TimeDim']].sort_values(by=['TimeDim','SpatialDim'])\n",
    "malaria_cases_df = malaria_cases_df.rename(columns={\n",
    "    'SpatialDim': 'Country',\n",
    "    'TimeDim': 'Year'\n",
    "}).reset_index(drop=True)\n",
    "malaria_cases_df.head()"
   ]
  },
  {
   "cell_type": "code",
   "execution_count": 6,
   "metadata": {},
   "outputs": [],
   "source": [
    "malaria_death_df.to_csv('Resources/WHO_Malaria_death.csv')\n",
    "malaria_cases_df.to_csv('Resources/WHO_Malaria_cases.csv')"
   ]
  }
 ],
 "metadata": {
  "kernelspec": {
   "display_name": "dev",
   "language": "python",
   "name": "python3"
  },
  "language_info": {
   "codemirror_mode": {
    "name": "ipython",
    "version": 3
   },
   "file_extension": ".py",
   "mimetype": "text/x-python",
   "name": "python",
   "nbconvert_exporter": "python",
   "pygments_lexer": "ipython3",
   "version": "3.10.14"
  }
 },
 "nbformat": 4,
 "nbformat_minor": 2
}
